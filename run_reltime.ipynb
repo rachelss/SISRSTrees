{
 "cells": [
  {
   "cell_type": "markdown",
   "metadata": {},
   "source": [
    "Clone https://github.com/adamhockenberry/dca-weighting.git into a parallel directory"
   ]
  },
  {
   "cell_type": "code",
   "execution_count": 28,
   "metadata": {},
   "outputs": [],
   "source": [
    "from dcaweighting.Code.supporting_functions import *\n",
    "from Bio import SeqIO, Phylo\n",
    "import numpy as np\n",
    "import glob\n",
    "from matplotlib import pyplot as plt"
   ]
  },
  {
   "cell_type": "code",
   "execution_count": 36,
   "metadata": {},
   "outputs": [],
   "source": [
    "#get rooted treefiles\n",
    "treefiles = glob.glob(\"**/*.chro\", recursive=True)"
   ]
  },
  {
   "cell_type": "code",
   "execution_count": 38,
   "metadata": {},
   "outputs": [],
   "source": [
    "for f in treefiles:\n",
    "    tree = Phylo.read(f, rooted=True, format='newick')\n",
    "    tree.root.branch_length = 0.0\n",
    "    tree = rel_time_AJH(tree)\n",
    "    for node in tree.get_terminals() + tree.get_nonterminals():\n",
    "        if node == tree.root:\n",
    "            continue\n",
    "        node.branch_length = node.branch_length/node.rate\n",
    "    tree.root.branch_length = None\n",
    "    Phylo.write(tree, f+\".tre\", format='newick')"
   ]
  },
  {
   "cell_type": "code",
   "execution_count": 25,
   "metadata": {},
   "outputs": [
    {
     "data": {
      "text/plain": [
       "1"
      ]
     },
     "execution_count": 25,
     "metadata": {},
     "output_type": "execute_result"
    }
   ],
   "source": []
  },
  {
   "cell_type": "markdown",
   "metadata": {},
   "source": [
    "Easier to plot trees in R"
   ]
  },
  {
   "cell_type": "code",
   "execution_count": 37,
   "metadata": {},
   "outputs": [
    {
     "data": {
      "text/plain": [
       "['SISRSTrees/Trees/AllSites/Gap/AllSISRS/m0/Jarvis_pi_m0_AllSISRS.phylip-relaxed.treefile.chro',\n",
       " 'SISRSTrees/Trees/AllSites/Gap/AllSISRS/m1/Jarvis_pi_m1_AllSISRS.phylip-relaxed.treefile.chro',\n",
       " 'SISRSTrees/Trees/AllSites/Gap/AllSISRS/m2/Jarvis_pi_m2_AllSISRS.phylip-relaxed.treefile.chro',\n",
       " 'SISRSTrees/Trees/AllSites/Gap/AllSISRS/m3/Jarvis_pi_m3_AllSISRS.phylip-relaxed.treefile.chro',\n",
       " 'SISRSTrees/Trees/AllSites/Gap/AllSISRS/m4/Jarvis_pi_m4_AllSISRS.phylip-relaxed.treefile.chro',\n",
       " 'SISRSTrees/Trees/AllSites/Gap/AllSISRS/m5/Jarvis_pi_m5_AllSISRS.phylip-relaxed.treefile.chro',\n",
       " 'SISRSTrees/Trees/AllSites/Gap/AllUniquelyMapped/m0/Jarvis_pi_m0_AllUniquelyMapped.phylip-relaxed.treefile.chro',\n",
       " 'SISRSTrees/Trees/AllSites/Gap/AllUniquelyMapped/m1/Jarvis_pi_m1_AllUniquelyMapped.phylip-relaxed.treefile.chro',\n",
       " 'SISRSTrees/Trees/AllSites/Gap/AllUniquelyMapped/m2/Jarvis_pi_m2_AllUniquelyMapped.phylip-relaxed.treefile.chro',\n",
       " 'SISRSTrees/Trees/AllSites/Gap/AllUniquelyMapped/m3/Jarvis_pi_m3_AllUniquelyMapped.phylip-relaxed.treefile.chro',\n",
       " 'SISRSTrees/Trees/AllSites/Gap/AllUniquelyMapped/m4/Jarvis_pi_m4_AllUniquelyMapped.phylip-relaxed.treefile.chro',\n",
       " 'SISRSTrees/Trees/AllSites/Gap/AllUniquelyMapped/m5/Jarvis_pi_m5_AllUniquelyMapped.phylip-relaxed.treefile.chro',\n",
       " 'SISRSTrees/Trees/AllSites/Gap/CDS/m0/Jarvis_pi_m0_CDS.phylip-relaxed.treefile.chro',\n",
       " 'SISRSTrees/Trees/AllSites/Gap/CDS/m1/Jarvis_pi_m1_CDS.phylip-relaxed.treefile.chro',\n",
       " 'SISRSTrees/Trees/AllSites/Gap/CDS/m2/Jarvis_pi_m2_CDS.phylip-relaxed.treefile.chro',\n",
       " 'SISRSTrees/Trees/AllSites/Gap/CDS/m3/Jarvis_pi_m3_CDS.phylip-relaxed.treefile.chro',\n",
       " 'SISRSTrees/Trees/AllSites/Gap/CDS/m4/Jarvis_pi_m4_CDS.phylip-relaxed.treefile.chro',\n",
       " 'SISRSTrees/Trees/AllSites/Gap/CDS/m5/Jarvis_pi_m5_CDS.phylip-relaxed.treefile.chro',\n",
       " 'SISRSTrees/Trees/AllSites/Gap/gene/m0/Jarvis_pi_m0_gene.phylip-relaxed.treefile.chro',\n",
       " 'SISRSTrees/Trees/AllSites/Gap/gene/m1/Jarvis_pi_m1_gene.phylip-relaxed.treefile.chro',\n",
       " 'SISRSTrees/Trees/AllSites/Gap/gene/m2/Jarvis_pi_m2_gene.phylip-relaxed.treefile.chro',\n",
       " 'SISRSTrees/Trees/AllSites/Gap/gene/m3/Jarvis_pi_m3_gene.phylip-relaxed.treefile.chro',\n",
       " 'SISRSTrees/Trees/AllSites/Gap/gene/m4/Jarvis_pi_m4_gene.phylip-relaxed.treefile.chro',\n",
       " 'SISRSTrees/Trees/AllSites/Gap/gene/m5/Jarvis_pi_m5_gene.phylip-relaxed.treefile.chro',\n",
       " 'SISRSTrees/Trees/AllSites/Gap/genic-other/m0/Jarvis_pi_m0_genic-other.phylip-relaxed.treefile.chro',\n",
       " 'SISRSTrees/Trees/AllSites/Gap/genic-other/m1/Jarvis_pi_m1_genic-other.phylip-relaxed.treefile.chro',\n",
       " 'SISRSTrees/Trees/AllSites/Gap/genic-other/m2/Jarvis_pi_m2_genic-other.phylip-relaxed.treefile.chro',\n",
       " 'SISRSTrees/Trees/AllSites/Gap/genic-other/m3/Jarvis_pi_m3_genic-other.phylip-relaxed.treefile.chro',\n",
       " 'SISRSTrees/Trees/AllSites/Gap/genic-other/m4/Jarvis_pi_m4_genic-other.phylip-relaxed.treefile.chro',\n",
       " 'SISRSTrees/Trees/AllSites/Gap/genic-other/m5/Jarvis_pi_m5_genic-other.phylip-relaxed.treefile.chro',\n",
       " 'SISRSTrees/Trees/AllSites/Gap/intergenic/m0/Jarvis_pi_m0_intergenic.phylip-relaxed.treefile.chro',\n",
       " 'SISRSTrees/Trees/AllSites/Gap/intergenic/m1/Jarvis_pi_m1_intergenic.phylip-relaxed.treefile.chro',\n",
       " 'SISRSTrees/Trees/AllSites/Gap/intergenic/m2/Jarvis_pi_m2_intergenic.phylip-relaxed.treefile.chro',\n",
       " 'SISRSTrees/Trees/AllSites/Gap/intergenic/m3/Jarvis_pi_m3_intergenic.phylip-relaxed.treefile.chro',\n",
       " 'SISRSTrees/Trees/AllSites/Gap/intergenic/m4/Jarvis_pi_m4_intergenic.phylip-relaxed.treefile.chro',\n",
       " 'SISRSTrees/Trees/AllSites/Gap/intergenic/m5/Jarvis_pi_m5_intergenic.phylip-relaxed.treefile.chro',\n",
       " 'SISRSTrees/Trees/AllSites/Gap/intron/m0/Jarvis_pi_m0_intron.phylip-relaxed.treefile.chro',\n",
       " 'SISRSTrees/Trees/AllSites/Gap/intron/m1/Jarvis_pi_m1_intron.phylip-relaxed.treefile.chro',\n",
       " 'SISRSTrees/Trees/AllSites/Gap/intron/m2/Jarvis_pi_m2_intron.phylip-relaxed.treefile.chro',\n",
       " 'SISRSTrees/Trees/AllSites/Gap/intron/m3/Jarvis_pi_m3_intron.phylip-relaxed.treefile.chro',\n",
       " 'SISRSTrees/Trees/AllSites/Gap/intron/m4/Jarvis_pi_m4_intron.phylip-relaxed.treefile.chro',\n",
       " 'SISRSTrees/Trees/AllSites/Gap/intron/m5/Jarvis_pi_m5_intron.phylip-relaxed.treefile.chro',\n",
       " 'SISRSTrees/Trees/AllSites/Gap/lncRNA/m0/Jarvis_pi_m0_lncRNA.phylip-relaxed.treefile.chro',\n",
       " 'SISRSTrees/Trees/AllSites/Gap/lncRNA/m1/Jarvis_pi_m1_lncRNA.phylip-relaxed.treefile.chro',\n",
       " 'SISRSTrees/Trees/AllSites/Gap/lncRNA/m2/Jarvis_pi_m2_lncRNA.phylip-relaxed.treefile.chro',\n",
       " 'SISRSTrees/Trees/AllSites/Gap/lncRNA/m3/Jarvis_pi_m3_lncRNA.phylip-relaxed.treefile.chro',\n",
       " 'SISRSTrees/Trees/AllSites/Gap/lncRNA/m4/Jarvis_pi_m4_lncRNA.phylip-relaxed.treefile.chro',\n",
       " 'SISRSTrees/Trees/AllSites/Gap/lncRNA/m5/Jarvis_pi_m5_lncRNA.phylip-relaxed.treefile.chro',\n",
       " 'SISRSTrees/Trees/AllSites/Gap/pseudogene/m0/Jarvis_pi_m0_pseudogene.phylip-relaxed.treefile.chro',\n",
       " 'SISRSTrees/Trees/AllSites/Gap/pseudogene/m1/Jarvis_pi_m1_pseudogene.phylip-relaxed.treefile.chro',\n",
       " 'SISRSTrees/Trees/AllSites/Gap/pseudogene/m2/Jarvis_pi_m2_pseudogene.phylip-relaxed.treefile.chro',\n",
       " 'SISRSTrees/Trees/AllSites/Gap/pseudogene/m3/Jarvis_pi_m3_pseudogene.phylip-relaxed.treefile.chro',\n",
       " 'SISRSTrees/Trees/AllSites/Gap/pseudogene/m4/Jarvis_pi_m4_pseudogene.phylip-relaxed.treefile.chro',\n",
       " 'SISRSTrees/Trees/AllSites/Gap/pseudogene/m5/Jarvis_pi_m5_pseudogene.phylip-relaxed.treefile.chro',\n",
       " 'SISRSTrees/Trees/AllSites/Gap/smRNA/m0/Jarvis_pi_m0_smRNA.phylip-relaxed.treefile.chro',\n",
       " 'SISRSTrees/Trees/AllSites/Gap/smRNA/m1/Jarvis_pi_m1_smRNA.phylip-relaxed.treefile.chro',\n",
       " 'SISRSTrees/Trees/AllSites/Gap/smRNA/m2/Jarvis_pi_m2_smRNA.phylip-relaxed.treefile.chro',\n",
       " 'SISRSTrees/Trees/AllSites/Gap/smRNA/m3/Jarvis_pi_m3_smRNA.phylip-relaxed.treefile.chro',\n",
       " 'SISRSTrees/Trees/AllSites/Gap/smRNA/m4/Jarvis_pi_m4_smRNA.phylip-relaxed.treefile.chro',\n",
       " 'SISRSTrees/Trees/AllSites/Gap/smRNA/m5/Jarvis_pi_m5_smRNA.phylip-relaxed.treefile.chro',\n",
       " 'SISRSTrees/Trees/AllSites/Gap/UTR3/m0/Jarvis_pi_m0_UTR3.phylip-relaxed.treefile.chro',\n",
       " 'SISRSTrees/Trees/AllSites/Gap/UTR3/m1/Jarvis_pi_m1_UTR3.phylip-relaxed.treefile.chro',\n",
       " 'SISRSTrees/Trees/AllSites/Gap/UTR3/m2/Jarvis_pi_m2_UTR3.phylip-relaxed.treefile.chro',\n",
       " 'SISRSTrees/Trees/AllSites/Gap/UTR3/m3/Jarvis_pi_m3_UTR3.phylip-relaxed.treefile.chro',\n",
       " 'SISRSTrees/Trees/AllSites/Gap/UTR3/m4/Jarvis_pi_m4_UTR3.phylip-relaxed.treefile.chro',\n",
       " 'SISRSTrees/Trees/AllSites/Gap/UTR3/m5/Jarvis_pi_m5_UTR3.phylip-relaxed.treefile.chro',\n",
       " 'SISRSTrees/Trees/AllSites/Gap/UTR5/m0/Jarvis_pi_m0_UTR5.phylip-relaxed.treefile.chro',\n",
       " 'SISRSTrees/Trees/AllSites/Gap/UTR5/m1/Jarvis_pi_m1_UTR5.phylip-relaxed.treefile.chro',\n",
       " 'SISRSTrees/Trees/AllSites/Gap/UTR5/m2/Jarvis_pi_m2_UTR5.phylip-relaxed.treefile.chro',\n",
       " 'SISRSTrees/Trees/AllSites/Gap/UTR5/m3/Jarvis_pi_m3_UTR5.phylip-relaxed.treefile.chro',\n",
       " 'SISRSTrees/Trees/AllSites/Gap/UTR5/m4/Jarvis_pi_m4_UTR5.phylip-relaxed.treefile.chro',\n",
       " 'SISRSTrees/Trees/AllSites/Gap/UTR5/m5/Jarvis_pi_m5_UTR5.phylip-relaxed.treefile.chro',\n",
       " 'SISRSTrees/Trees/AllSites/NoGap/AllSISRS_nogap/m0/Jarvis_pi_m0_AllSISRS_nogap.phylip-relaxed.treefile.chro',\n",
       " 'SISRSTrees/Trees/AllSites/NoGap/AllSISRS_nogap/m1/Jarvis_pi_m1_AllSISRS_nogap.phylip-relaxed.treefile.chro',\n",
       " 'SISRSTrees/Trees/AllSites/NoGap/AllSISRS_nogap/m2/Jarvis_pi_m2_AllSISRS_nogap.phylip-relaxed.treefile.chro',\n",
       " 'SISRSTrees/Trees/AllSites/NoGap/AllSISRS_nogap/m3/Jarvis_pi_m3_AllSISRS_nogap.phylip-relaxed.treefile.chro',\n",
       " 'SISRSTrees/Trees/AllSites/NoGap/AllSISRS_nogap/m4/Jarvis_pi_m4_AllSISRS_nogap.phylip-relaxed.treefile.chro',\n",
       " 'SISRSTrees/Trees/AllSites/NoGap/AllSISRS_nogap/m5/Jarvis_pi_m5_AllSISRS_nogap.phylip-relaxed.treefile.chro',\n",
       " 'SISRSTrees/Trees/AllSites/NoGap/AllUniquelyMapped_nogap/m0/Jarvis_pi_m0_AllUniquelyMapped_nogap.phylip-relaxed.treefile.chro',\n",
       " 'SISRSTrees/Trees/AllSites/NoGap/AllUniquelyMapped_nogap/m1/Jarvis_pi_m1_AllUniquelyMapped_nogap.phylip-relaxed.treefile.chro',\n",
       " 'SISRSTrees/Trees/AllSites/NoGap/AllUniquelyMapped_nogap/m2/Jarvis_pi_m2_AllUniquelyMapped_nogap.phylip-relaxed.treefile.chro',\n",
       " 'SISRSTrees/Trees/AllSites/NoGap/AllUniquelyMapped_nogap/m3/Jarvis_pi_m3_AllUniquelyMapped_nogap.phylip-relaxed.treefile.chro',\n",
       " 'SISRSTrees/Trees/AllSites/NoGap/AllUniquelyMapped_nogap/m4/Jarvis_pi_m4_AllUniquelyMapped_nogap.phylip-relaxed.treefile.chro',\n",
       " 'SISRSTrees/Trees/AllSites/NoGap/AllUniquelyMapped_nogap/m5/Jarvis_pi_m5_AllUniquelyMapped_nogap.phylip-relaxed.treefile.chro',\n",
       " 'SISRSTrees/Trees/AllSites/NoGap/CDS_nogap/m0/Jarvis_pi_m0_CDS_nogap.phylip-relaxed.treefile.chro',\n",
       " 'SISRSTrees/Trees/AllSites/NoGap/CDS_nogap/m1/Jarvis_pi_m1_CDS_nogap.phylip-relaxed.treefile.chro',\n",
       " 'SISRSTrees/Trees/AllSites/NoGap/CDS_nogap/m2/Jarvis_pi_m2_CDS_nogap.phylip-relaxed.treefile.chro',\n",
       " 'SISRSTrees/Trees/AllSites/NoGap/CDS_nogap/m3/Jarvis_pi_m3_CDS_nogap.phylip-relaxed.treefile.chro',\n",
       " 'SISRSTrees/Trees/AllSites/NoGap/CDS_nogap/m4/Jarvis_pi_m4_CDS_nogap.phylip-relaxed.treefile.chro',\n",
       " 'SISRSTrees/Trees/AllSites/NoGap/CDS_nogap/m5/Jarvis_pi_m5_CDS_nogap.phylip-relaxed.treefile.chro',\n",
       " 'SISRSTrees/Trees/AllSites/NoGap/gene_nogap/m0/Jarvis_pi_m0_gene_nogap.phylip-relaxed.treefile.chro',\n",
       " 'SISRSTrees/Trees/AllSites/NoGap/gene_nogap/m1/Jarvis_pi_m1_gene_nogap.phylip-relaxed.treefile.chro',\n",
       " 'SISRSTrees/Trees/AllSites/NoGap/gene_nogap/m2/Jarvis_pi_m2_gene_nogap.phylip-relaxed.treefile.chro',\n",
       " 'SISRSTrees/Trees/AllSites/NoGap/gene_nogap/m3/Jarvis_pi_m3_gene_nogap.phylip-relaxed.treefile.chro',\n",
       " 'SISRSTrees/Trees/AllSites/NoGap/gene_nogap/m4/Jarvis_pi_m4_gene_nogap.phylip-relaxed.treefile.chro',\n",
       " 'SISRSTrees/Trees/AllSites/NoGap/gene_nogap/m5/Jarvis_pi_m5_gene_nogap.phylip-relaxed.treefile.chro',\n",
       " 'SISRSTrees/Trees/AllSites/NoGap/genic-other_nogap/m0/Jarvis_pi_m0_genic-other_nogap.phylip-relaxed.treefile.chro',\n",
       " 'SISRSTrees/Trees/AllSites/NoGap/genic-other_nogap/m1/Jarvis_pi_m1_genic-other_nogap.phylip-relaxed.treefile.chro',\n",
       " 'SISRSTrees/Trees/AllSites/NoGap/genic-other_nogap/m2/Jarvis_pi_m2_genic-other_nogap.phylip-relaxed.treefile.chro',\n",
       " 'SISRSTrees/Trees/AllSites/NoGap/genic-other_nogap/m3/Jarvis_pi_m3_genic-other_nogap.phylip-relaxed.treefile.chro',\n",
       " 'SISRSTrees/Trees/AllSites/NoGap/genic-other_nogap/m4/Jarvis_pi_m4_genic-other_nogap.phylip-relaxed.treefile.chro',\n",
       " 'SISRSTrees/Trees/AllSites/NoGap/genic-other_nogap/m5/Jarvis_pi_m5_genic-other_nogap.phylip-relaxed.treefile.chro',\n",
       " 'SISRSTrees/Trees/AllSites/NoGap/intergenic_nogap/m0/Jarvis_pi_m0_intergenic_nogap.phylip-relaxed.treefile.chro',\n",
       " 'SISRSTrees/Trees/AllSites/NoGap/intergenic_nogap/m1/Jarvis_pi_m1_intergenic_nogap.phylip-relaxed.treefile.chro',\n",
       " 'SISRSTrees/Trees/AllSites/NoGap/intergenic_nogap/m2/Jarvis_pi_m2_intergenic_nogap.phylip-relaxed.treefile.chro',\n",
       " 'SISRSTrees/Trees/AllSites/NoGap/intergenic_nogap/m3/Jarvis_pi_m3_intergenic_nogap.phylip-relaxed.treefile.chro',\n",
       " 'SISRSTrees/Trees/AllSites/NoGap/intergenic_nogap/m4/Jarvis_pi_m4_intergenic_nogap.phylip-relaxed.treefile.chro',\n",
       " 'SISRSTrees/Trees/AllSites/NoGap/intergenic_nogap/m5/Jarvis_pi_m5_intergenic_nogap.phylip-relaxed.treefile.chro',\n",
       " 'SISRSTrees/Trees/AllSites/NoGap/intron_nogap/m0/Jarvis_pi_m0_intron_nogap.phylip-relaxed.treefile.chro',\n",
       " 'SISRSTrees/Trees/AllSites/NoGap/intron_nogap/m1/Jarvis_pi_m1_intron_nogap.phylip-relaxed.treefile.chro',\n",
       " 'SISRSTrees/Trees/AllSites/NoGap/intron_nogap/m2/Jarvis_pi_m2_intron_nogap.phylip-relaxed.treefile.chro',\n",
       " 'SISRSTrees/Trees/AllSites/NoGap/intron_nogap/m3/Jarvis_pi_m3_intron_nogap.phylip-relaxed.treefile.chro',\n",
       " 'SISRSTrees/Trees/AllSites/NoGap/intron_nogap/m4/Jarvis_pi_m4_intron_nogap.phylip-relaxed.treefile.chro',\n",
       " 'SISRSTrees/Trees/AllSites/NoGap/intron_nogap/m5/Jarvis_pi_m5_intron_nogap.phylip-relaxed.treefile.chro',\n",
       " 'SISRSTrees/Trees/AllSites/NoGap/lncRNA_nogap/m0/Jarvis_pi_m0_lncRNA_nogap.phylip-relaxed.treefile.chro',\n",
       " 'SISRSTrees/Trees/AllSites/NoGap/lncRNA_nogap/m1/Jarvis_pi_m1_lncRNA_nogap.phylip-relaxed.treefile.chro',\n",
       " 'SISRSTrees/Trees/AllSites/NoGap/lncRNA_nogap/m2/Jarvis_pi_m2_lncRNA_nogap.phylip-relaxed.treefile.chro',\n",
       " 'SISRSTrees/Trees/AllSites/NoGap/lncRNA_nogap/m3/Jarvis_pi_m3_lncRNA_nogap.phylip-relaxed.treefile.chro',\n",
       " 'SISRSTrees/Trees/AllSites/NoGap/lncRNA_nogap/m4/Jarvis_pi_m4_lncRNA_nogap.phylip-relaxed.treefile.chro',\n",
       " 'SISRSTrees/Trees/AllSites/NoGap/lncRNA_nogap/m5/Jarvis_pi_m5_lncRNA_nogap.phylip-relaxed.treefile.chro',\n",
       " 'SISRSTrees/Trees/AllSites/NoGap/pseudogene_nogap/m0/Jarvis_pi_m0_pseudogene_nogap.phylip-relaxed.treefile.chro',\n",
       " 'SISRSTrees/Trees/AllSites/NoGap/pseudogene_nogap/m1/Jarvis_pi_m1_pseudogene_nogap.phylip-relaxed.treefile.chro',\n",
       " 'SISRSTrees/Trees/AllSites/NoGap/pseudogene_nogap/m2/Jarvis_pi_m2_pseudogene_nogap.phylip-relaxed.treefile.chro',\n",
       " 'SISRSTrees/Trees/AllSites/NoGap/pseudogene_nogap/m3/Jarvis_pi_m3_pseudogene_nogap.phylip-relaxed.treefile.chro',\n",
       " 'SISRSTrees/Trees/AllSites/NoGap/pseudogene_nogap/m4/Jarvis_pi_m4_pseudogene_nogap.phylip-relaxed.treefile.chro',\n",
       " 'SISRSTrees/Trees/AllSites/NoGap/pseudogene_nogap/m5/Jarvis_pi_m5_pseudogene_nogap.phylip-relaxed.treefile.chro',\n",
       " 'SISRSTrees/Trees/AllSites/NoGap/smRNA_nogap/m0/Jarvis_pi_m0_smRNA_nogap.phylip-relaxed.treefile.chro',\n",
       " 'SISRSTrees/Trees/AllSites/NoGap/smRNA_nogap/m1/Jarvis_pi_m1_smRNA_nogap.phylip-relaxed.treefile.chro',\n",
       " 'SISRSTrees/Trees/AllSites/NoGap/smRNA_nogap/m2/Jarvis_pi_m2_smRNA_nogap.phylip-relaxed.treefile.chro',\n",
       " 'SISRSTrees/Trees/AllSites/NoGap/smRNA_nogap/m3/Jarvis_pi_m3_smRNA_nogap.phylip-relaxed.treefile.chro',\n",
       " 'SISRSTrees/Trees/AllSites/NoGap/smRNA_nogap/m4/Jarvis_pi_m4_smRNA_nogap.phylip-relaxed.treefile.chro',\n",
       " 'SISRSTrees/Trees/AllSites/NoGap/smRNA_nogap/m5/Jarvis_pi_m5_smRNA_nogap.phylip-relaxed.treefile.chro',\n",
       " 'SISRSTrees/Trees/AllSites/NoGap/UTR3_nogap/m0/Jarvis_pi_m0_UTR3_nogap.phylip-relaxed.treefile.chro',\n",
       " 'SISRSTrees/Trees/AllSites/NoGap/UTR3_nogap/m1/Jarvis_pi_m1_UTR3_nogap.phylip-relaxed.treefile.chro',\n",
       " 'SISRSTrees/Trees/AllSites/NoGap/UTR3_nogap/m2/Jarvis_pi_m2_UTR3_nogap.phylip-relaxed.treefile.chro',\n",
       " 'SISRSTrees/Trees/AllSites/NoGap/UTR3_nogap/m3/Jarvis_pi_m3_UTR3_nogap.phylip-relaxed.treefile.chro',\n",
       " 'SISRSTrees/Trees/AllSites/NoGap/UTR3_nogap/m4/Jarvis_pi_m4_UTR3_nogap.phylip-relaxed.treefile.chro',\n",
       " 'SISRSTrees/Trees/AllSites/NoGap/UTR3_nogap/m5/Jarvis_pi_m5_UTR3_nogap.phylip-relaxed.treefile.chro',\n",
       " 'SISRSTrees/Trees/AllSites/NoGap/UTR5_nogap/m5/Jarvis_pi_m5_UTR5_nogap.phylip-relaxed.treefile.chro']"
      ]
     },
     "execution_count": 37,
     "metadata": {},
     "output_type": "execute_result"
    }
   ],
   "source": [
    "treefiles"
   ]
  },
  {
   "cell_type": "code",
   "execution_count": null,
   "metadata": {},
   "outputs": [],
   "source": []
  }
 ],
 "metadata": {
  "kernelspec": {
   "display_name": "Python 3",
   "language": "python",
   "name": "python3"
  },
  "language_info": {
   "codemirror_mode": {
    "name": "ipython",
    "version": 3
   },
   "file_extension": ".py",
   "mimetype": "text/x-python",
   "name": "python",
   "nbconvert_exporter": "python",
   "pygments_lexer": "ipython3",
   "version": "3.7.7"
  }
 },
 "nbformat": 4,
 "nbformat_minor": 4
}
